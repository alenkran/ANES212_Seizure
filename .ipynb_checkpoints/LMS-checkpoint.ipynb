{
 "cells": [
  {
   "cell_type": "markdown",
   "metadata": {},
   "source": [
    "### alpha-LMS\n",
    "Testing least mean squares filter on seizure data.\n",
    "\n",
    "Reference: https://en.wikipedia.org/wiki/Least_mean_squares_filter"
   ]
  },
  {
   "cell_type": "code",
   "execution_count": null,
   "metadata": {},
   "outputs": [],
   "source": [
    "%run scripts/LMS.py\n",
    "%run scripts/readEDF.py\n",
    "# need to organize data\n",
    "# key = patient\n",
    "# row = time point\n",
    "# col = n columns of raw data, 1 id column (seizure or not)\n",
    "\n",
    "# Load patient data for one patient\n",
    "df = read_patient_edf('chb10')\n",
    "\n",
    "eeg_LMS = mu_LMS_filter()"
   ]
  }
 ],
 "metadata": {
  "kernelspec": {
   "display_name": "Python 2",
   "language": "python",
   "name": "python2"
  },
  "language_info": {
   "codemirror_mode": {
    "name": "ipython",
    "version": 2
   },
   "file_extension": ".py",
   "mimetype": "text/x-python",
   "name": "python",
   "nbconvert_exporter": "python",
   "pygments_lexer": "ipython2",
   "version": "2.7.14"
  }
 },
 "nbformat": 4,
 "nbformat_minor": 2
}
