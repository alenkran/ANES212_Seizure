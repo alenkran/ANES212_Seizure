{
 "cells": [
  {
   "cell_type": "markdown",
   "metadata": {},
   "source": [
    "### Organize BCH data\n"
   ]
  },
  {
   "cell_type": "markdown",
   "metadata": {},
   "source": [
    "The purpose of this is to organize the downloaded data into a dictionary. <br>\n",
    "key: patient <br>\n",
    "value: data <br>\n",
    "> column 0: time (seconds) <br>\n",
    "> column 1: Seizure yes/no <br>\n",
    "> column 2: Time until next seizure. Value will be thresholded to [0, MAX_TIME] <br>\n",
    "> column 2-n: Raw data from ECG <br>\n",
    "\n",
    "*Since not all the patients have data for all the ECG (and some have extra leads) just be careful"
   ]
  },
  {
   "cell_type": "code",
   "execution_count": 43,
   "metadata": {},
   "outputs": [],
   "source": [
    "def extract_summary_data(f, temp_d):\n",
    "    summary = f.read()\n",
    "    summary = summary.split('\\n\\n')\n",
    "    temp_d['freq'] = float(summary[0].split(' ')[3])\n",
    "    for line in summary:\n",
    "        if 'File Name:' in line:\n",
    "            temp = filter(None, line.split('\\n'))\n",
    "            key = temp[0].split(' ')[2]\n",
    "            if len(temp) == 4:\n",
    "                temp_d[key] = []\n",
    "                continue\n",
    "            temp = temp[4:]\n",
    "            seizure_time = []\n",
    "            for x,y in zip(temp[0::2], temp[1::2]):\n",
    "                x = int(x.split(' ')[-2])\n",
    "                y = int(y.split(' ')[-2])\n",
    "                seizure_time.append((x,y))\n",
    "            temp_d[key] = seizure_time\n",
    "\n",
    "def read_edf(filename):\n",
    "    f = pyedflib.EdfReader(os.path.join(root, filename))\n",
    "    assert(np.all(f.getSampleFrequencies() == f.getSampleFrequencies()[0]))\n",
    "    n = f.signals_in_file\n",
    "    signal_labels = f.getSignalLabels()\n",
    "    sigbufs = np.zeros((n, f.getNSamples()[0]))\n",
    "    for i in np.arange(n):\n",
    "        sigbufs[i, :] = f.readSignal(i)\n",
    "    return sigbufs, f.getSignalLabels()\n",
    "    \n",
    "def label_edf(sigbufs, seizure_time, eeg_label):\n",
    "    time = np.arange(sigbufs.shape[1])/temp_d['freq']\n",
    "    seizure_id = np.zeros(sigbufs.shape[1])\n",
    "    seizure_delay = np.zeros(sigbufs.shape[1])\n",
    "    if seizure_time:\n",
    "        prev_end = 0\n",
    "        for x,y in seizure_time:\n",
    "            start_idx = int(temp_d['freq']*x)\n",
    "            end_idx = int(temp_d['freq']*y)+1 # Include the end point within the data\n",
    "            seizure_id[start_idx:end_idx].fill(1)\n",
    "            seizure_delay[prev_end:start_idx] = np.arange(start_idx-prev_end)[::-1]/temp_d['freq']\n",
    "            seizure_delay[end_idx:].fill(np.inf)\n",
    "            prev_end = end_idx\n",
    "    else:\n",
    "        seizure_delay += np.inf\n",
    "    df = np.vstack([time, seizure_id, seizure_delay, sigbufs])\n",
    "    df = df.T\n",
    "    df = df.astype('float32')\n",
    "    eeg_label = ['time', 'seizure', 'seizure_delay'] + eeg_label\n",
    "    df = pd.DataFrame(df, columns=eeg_label)\n",
    "    df['seizure'] = df['seizure'].astype('int8')\n",
    "    return df\n",
    "\n",
    "# Use the function like this\n",
    "# df = read_single_edf('chb10_89.edf')\n",
    "def read_single_edf(filename):\n",
    "    if '/' not in filename:\n",
    "        data_folder = '/'.join(os.getcwd().split('/')[:-1]) + '/ANES212_data/'\n",
    "        patient_folder = filename.split('_')[0]\n",
    "        filename = data_folder + patient_folder + '/' + filename\n",
    "    else:\n",
    "        data_folder = '/'.join(os.getcwd().split('/')[:-1]) + '/ANES212_data/'\n",
    "        patient_folder = filename.split('/')[-2]\n",
    "    \n",
    "    # Extract label data for the filename (e.g. start and end of seizures if any)\n",
    "    summary_file = data_folder + patient_folder + '/' + patient_folder + '-summary.txt'\n",
    "    d_temp = []\n",
    "    with open(summary_file, 'rb') as f:\n",
    "        extract_summary_data(f, temp_d)\n",
    "    \n",
    "    # Now read edf and label\n",
    "    sigbufs, eeg_label = read_edf(full_path)\n",
    "    df = label_edf(sigbufs, temp_d[filename.split('/')[-1]], eeg_label)\n",
    "    return df"
   ]
  },
  {
   "cell_type": "code",
   "execution_count": 45,
   "metadata": {
    "scrolled": true
   },
   "outputs": [],
   "source": [
    "# Converts all edf to csv for readability\n",
    "# Takes up a lot of memory so may not be ideal\n",
    "\n",
    "%matplotlib inline  \n",
    "import matplotlib.pyplot as plt\n",
    "import numpy as np\n",
    "import os\n",
    "import pandas as pd\n",
    "import pyedflib\n",
    "import re\n",
    "\n",
    "# Parameter\n",
    "patient_folder_list = []\n",
    "\n",
    "# Load data from data_folder\n",
    "data_folder = '/'.join(os.getcwd().split('/')[:-1]) + '/ANES212_data/'\n",
    "patient_dict = {}\n",
    "for root, dirs, files in os.walk(data_folder):\n",
    "    df_list = []\n",
    "    if any([patient_folder in root for patient_folder in patient_folder_list]):\n",
    "        temp_d = {} # Stores data from the summary txt file\n",
    "        for filename in files:\n",
    "            full_path = os.path.join(root, filename)\n",
    "            print filename\n",
    "            if '.edf'in filename and '.seizures' not in filename:\n",
    "                sigbufs, eeg_label = read_edf(full_path)\n",
    "                df = label_edf(sigbufs, temp_d[filename], eeg_label)\n",
    "                df_filename = os.path.join(root, filename.split('.')[0]) + '.csv'\n",
    "                #df.to_csv(df_filename, sep='\\t')\n",
    "            elif '-summary.txt' in filename:\n",
    "                with open(full_path, 'rb') as f:\n",
    "                    extract_summary_data(f, temp_d)"
   ]
  },
  {
   "cell_type": "code",
   "execution_count": 108,
   "metadata": {},
   "outputs": [
    {
     "name": "stdout",
     "output_type": "stream",
     "text": [
      "{'file_name': '/mnt/c/Users/choec/Documents/GitHub/ANES212_data/chb04/chb04_05.edf'}\n",
      "['__class__', '__del__', '__delattr__', '__dict__', '__doc__', '__enter__', '__exit__', '__format__', '__getattribute__', '__hash__', '__init__', '__module__', '__new__', '__reduce__', '__reduce_ex__', '__repr__', '__setattr__', '__setstate__', '__sizeof__', '__str__', '__subclasshook__', '__weakref__', '_close', '_convert_string', '_get_float', 'admincode', 'annotations_in_file', 'birthdate', 'check_open_ok', 'datarecord_duration', 'datarecords_in_file', 'digital_max', 'digital_min', 'equipment', 'file_duration', 'file_info', 'file_info_long', 'file_name', 'gender', 'getAdmincode', 'getBirthdate', 'getDigitalMaximum', 'getDigitalMinimum', 'getEquipment', 'getFileDuration', 'getGender', 'getHeader', 'getLabel', 'getNSamples', 'getPatientAdditional', 'getPatientCode', 'getPatientName', 'getPhysicalDimension', 'getPhysicalMaximum', 'getPhysicalMinimum', 'getPrefilter', 'getRecordingAdditional', 'getSampleFrequencies', 'getSampleFrequency', 'getSignalHeader', 'getSignalHeaders', 'getSignalLabels', 'getStartdatetime', 'getTechnician', 'getTransducer', 'handle', 'load_datarecord', 'make_buffer', 'open', 'patient', 'patient_additional', 'patientcode', 'patientname', 'physical_dimension', 'physical_max', 'physical_min', 'prefilter', 'readAnnotations', 'readSignal', 'read_annotation', 'read_digital_signal', 'readsignal', 'recording_additional', 'samplefrequency', 'samples_in_datarecord', 'samples_in_file', 'signal_label', 'signals_in_file', 'startdate_day', 'startdate_month', 'startdate_year', 'starttime_hour', 'starttime_minute', 'starttime_second', 'technician', 'transducer']\n",
      "[u'FP1-F7', u'F7-T7', u'T7-P7', u'P7-O1', u'FP1-F3', u'F3-C3', u'C3-P3', u'P3-O1', u'FP2-F4', u'F4-C4', u'C4-P4', u'P4-O2', u'FP2-F8', u'F8-T8', u'T8-P8', u'P8-O2', u'FZ-CZ', u'CZ-PZ', u'P7-T7', u'T7-FT9', u'FT9-FT10', u'FT10-T8', u'T8-P8']\n"
     ]
    }
   ],
   "source": [
    "print vars(f)\n",
    "print dir(f)\n",
    "print f.getSignalLabels()"
   ]
  }
 ],
 "metadata": {
  "kernelspec": {
   "display_name": "Python 2",
   "language": "python",
   "name": "python2"
  }
 },
 "nbformat": 4,
 "nbformat_minor": 2
}
