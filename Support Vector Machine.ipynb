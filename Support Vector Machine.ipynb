{
 "cells": [
  {
   "cell_type": "code",
   "execution_count": null,
   "metadata": {},
   "outputs": [],
   "source": [
    "import pyedflib\n",
    "import numpy as np\n",
    "import os\n",
    "import matplotlib.pyplot as plt\n",
    "from scipy.fftpack import fft\n",
    "from sklearn import svm\n",
    "%run scripts/readEDF.py"
   ]
  },
  {
   "cell_type": "code",
   "execution_count": null,
   "metadata": {},
   "outputs": [],
   "source": [
    "def lowvshigh_energy(df)\n",
    "    df = read_single_edf('chb01_14.edf')\n",
    "    y = df.as_matrix()[:,3:].T\n",
    "    seizure=df['seizure'].as_matrix()\n",
    "    # Number of sample points\n",
    "    N = len(y[0])\n",
    "    # sample spacing in seconds\n",
    "    T = 1.0/256 \n",
    "    # Energy\n",
    "    lowE=[]\n",
    "    highE=[]\n",
    "    w=256*5 #size of window\n",
    "    for i in range(0,N/w):\n",
    "        low=[]\n",
    "        high=[]\n",
    "        for j in range(y.shape[0]):\n",
    "            signal=y[j,i*w:i*w+w]\n",
    "            yf = np.abs(fft(signal))\n",
    "            # frequency 0-128 Hz with w/2 points in total\n",
    "            # interested in 0-16Hz and 14-36Hz\n",
    "            l=np.mean(yf[0:np.floor(16.0/128*(w//2)).astype(int)])\n",
    "            h=np.mean(yf[np.floor(14.0/128*(w//2)).astype(int):np.floor(36.0/128*(w//2)).astype(int)])\n",
    "            low.append(l)\n",
    "            high.append(h)\n",
    "        lowE.append(np.mean(low))\n",
    "        highE.append(np.mean(high))\n",
    "    #plt.scatter(lowE,highE,c=seizure[::w])\n",
    "    #plt.show()"
   ]
  },
  {
   "cell_type": "code",
   "execution_count": null,
   "metadata": {},
   "outputs": [],
   "source": [
    "# Support vector machine\n",
    "vec = [lowE, highE]\n",
    "vec = np.asarray(x)\n",
    "c=np.asarray(seizure[::w])\n",
    "# Learning\n",
    "clf = svm.SVC()\n",
    "clf.fit(vec, c) \n",
    "# Predicting\n",
    "vec = [lowE, highE]\n",
    "vec = np.asarray(x)\n",
    "pred = clf.predict(vec)"
   ]
  }
 ],
 "metadata": {
  "kernelspec": {
   "display_name": "Python 2",
   "language": "python",
   "name": "python2"
  },
  "language_info": {
   "codemirror_mode": {
    "name": "ipython",
    "version": 2
   },
   "file_extension": ".py",
   "mimetype": "text/x-python",
   "name": "python",
   "nbconvert_exporter": "python",
   "pygments_lexer": "ipython2",
   "version": "2.7.14"
  }
 },
 "nbformat": 4,
 "nbformat_minor": 2
}
